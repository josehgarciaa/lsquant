{
 "cells": [
  {
   "cell_type": "code",
   "execution_count": 1,
   "id": "c20feafb",
   "metadata": {},
   "outputs": [],
   "source": [
    "import numpy as np\n",
    "\n",
    "def parse_positions( pos_fname, scell=(1,1,1) ):\n",
    "    data = None\n",
    "    with open(pos_fname) as f:\n",
    "        data = f.read()\n",
    "        for c in [ \")\", \"(\", \"[\", \"]\", \",\", \"\\'\" ]:\n",
    "            data = data.replace(c,\"\")\n",
    "    data = np.array([ (*elem.split()[1:3],0.0) for elem in data.split(\"\\n\") ], dtype=float)    \n",
    "    return data\n",
    "\n",
    "\n",
    "def get_neighbor_list(tree, points, cutoff_radius):\n",
    "    \n",
    "    # Get all neighbors for a given cutoff the tree for points within the cutoff distance\n",
    "    neighbors_list = tree.query_ball_point(points, cutoff_radius)\n",
    "\n",
    "    # Determine maximum number of neighbors \n",
    "    max_neighbors_number = max(len(neighbors) for neighbors in neighbors_list)\n",
    "\n",
    "    # Create a structured numpy array to load the neighbor list \n",
    "    # if the number of neighbors for a ith-entry is less than the maximum\n",
    "    #fill with -1, else use correct values\n",
    "    result = np.full((len(neighbors_list), max_neighbors_number), -1)\n",
    "    for i, neighbors in enumerate(neighbors_list):\n",
    "        result[i, :len(neighbors)] = neighbors\n",
    "    \n",
    "    return result\n",
    "\n"
   ]
  },
  {
   "cell_type": "code",
   "execution_count": 2,
   "id": "09503380",
   "metadata": {},
   "outputs": [],
   "source": [
    "import numpy as np\n",
    "from scipy.spatial import KDTree\n",
    "\n",
    "points = parse_positions(\"pos.txt\")\n",
    "center = np.mean(points, axis=0);\n",
    "points-=center\n",
    "cutoff_radius = 3\n",
    "\n",
    "# Construct a KDTree\n",
    "tree = KDTree(points)\n",
    "\n",
    "neighbors_list = get_neighbor_list(tree, points, cutoff_radius)"
   ]
  },
  {
   "cell_type": "code",
   "execution_count": 3,
   "id": "63221782",
   "metadata": {},
   "outputs": [
    {
     "data": {
      "image/png": "[encoded data removed]",
      "text/plain": [
       "<Figure size 640x480 with 1 Axes>"
      ]
     },
     "metadata": {},
     "output_type": "display_data"
    }
   ],
   "source": [
    "import matplotlib.pyplot as plt\n",
    "plt.scatter(*(points.T)[:2])\n",
    "plt.scatter(0,0)\n",
    "\n",
    "#Test the neighbor list approach\n",
    "neighbors = get_neighbor_list(tree, [[0,0,0]], cutoff_radius)\n",
    "plt.scatter(*points[neighbors][0].T[:2])\n",
    "\n",
    "\n",
    "#plt.scatter(*(neighbors.T)[:2])\n",
    "\n",
    "\n",
    "plt.xlim(-10,10)\n",
    "plt.ylim(-10,10)\n",
    "plt.gca().set_aspect('equal')"
   ]
  },
  {
   "cell_type": "markdown",
   "id": "825255cc",
   "metadata": {},
   "source": [
    "# Hopping function"
   ]
  },
  {
   "cell_type": "code",
   "execution_count": 4,
   "id": "6250ddb9",
   "metadata": {},
   "outputs": [],
   "source": [
    "def hopping_function( position, site_i,site_j, model_params):\n",
    "    p = model_params\n",
    "    \n",
    "    delta_r = np.linalg.norm(position[site_i]-position[site_j])\n",
    "    if delta_r < p[\"a_nn\"]:\n",
    "        return p[\"t\"]\n",
    "    return 0.0\n",
    "\n",
    "model_params = {\"t\":2.8, \"a_nn\":1.46}\n"
   ]
  },
  {
   "cell_type": "markdown",
   "id": "84826472",
   "metadata": {},
   "source": [
    "# Create Hamiltonian Matrix"
   ]
  },
  {
   "cell_type": "code",
   "execution_count": 5,
   "id": "ddda5254",
   "metadata": {},
   "outputs": [],
   "source": [
    "hopping_list = np.full(neighbors_list.shape,0.0).astype(complex)\n",
    "\n",
    "with open(\"ham_new.txt\", \"w\") as f:\n",
    "    ham = \"\"\n",
    "\n",
    "    for site_i, neighbors in enumerate(neighbors_list):\n",
    "        for n,site_j in enumerate(neighbors):\n",
    "            if site_j >=0:\n",
    "                hop_ij = hopping_function(points, site_i, site_j, model_params )\n",
    "                if np.abs(hop_ij)>0:\n",
    "                    hopping_list[site_i,n] = hop_ij\n",
    "                    ham+= \"{} {} {} {} \\n\".format(site_i,site_j, hop_ij.real,hop_ij.imag)\n",
    "    f.write(ham)"
   ]
  },
  {
   "cell_type": "markdown",
   "id": "1b6b4d85",
   "metadata": {},
   "source": [
    "# Write the Hamiltonian File"
   ]
  },
  {
   "cell_type": "code",
   "execution_count": 6,
   "id": "d03d4a16",
   "metadata": {},
   "outputs": [
    {
     "ename": "IndentationError",
     "evalue": "unexpected indent (3215710627.py, line 6)",
     "output_type": "error",
     "traceback": [
      "\u001b[0;36m  Cell \u001b[0;32mIn[6], line 6\u001b[0;36m\u001b[0m\n\u001b[0;31m    ham+= \"{} {} {} {} \\n\".format(site_i,site_j, hop_ij.real,hop_ij.imag)\u001b[0m\n\u001b[0m    ^\u001b[0m\n\u001b[0;31mIndentationError\u001b[0m\u001b[0;31m:\u001b[0m unexpected indent\n"
     ]
    }
   ],
   "source": [
    "#with open(\"ham_new.txt\", \"w\") as f:\n",
    " #   ham = \"\"\n",
    "  #  for site_i, neighbors_hops in enumerate(zip(neighbors_list,hopping_list) ):\n",
    "   #     for site_j,hop_ij  in zip(*neighbors_hops):\n",
    "    #        if site_j>=0 and np.abs(hop_ij)>0: \n",
    "                ham+= \"{} {} {} {} \\n\".format(site_i,site_j, hop_ij.real,hop_ij.imag)\n",
    "    #f.write(ham)"
   ]
  },
  {
   "cell_type": "markdown",
   "id": "56d0224e",
   "metadata": {},
   "source": [
    "#### "
   ]
  }
 ],
 "metadata": {
  "kernelspec": {
   "display_name": "Python 3 (ipykernel)",
   "language": "python",
   "name": "python3"
  },
  "language_info": {
   "codemirror_mode": {
    "name": "ipython",
    "version": 3
   },
   "file_extension": ".py",
   "mimetype": "text/x-python",
   "name": "python",
   "nbconvert_exporter": "python",
   "pygments_lexer": "ipython3",
   "version": "3.11.3"
  }
 },
 "nbformat": 4,
 "nbformat_minor": 5
}
